{
  "nbformat": 4,
  "nbformat_minor": 0,
  "metadata": {
    "colab": {
      "provenance": [],
      "include_colab_link": true
    },
    "kernelspec": {
      "name": "python3",
      "display_name": "Python 3"
    },
    "language_info": {
      "name": "python"
    }
  },
  "cells": [
    {
      "cell_type": "markdown",
      "metadata": {
        "id": "view-in-github",
        "colab_type": "text"
      },
      "source": [
        "<a href=\"https://colab.research.google.com/github/ShivamAmin05/HarrisCornerDetector/blob/main/Harris_Corner_Detection.ipynb\" target=\"_parent\"><img src=\"https://colab.research.google.com/assets/colab-badge.svg\" alt=\"Open In Colab\"/></a>"
      ]
    },
    {
      "cell_type": "code",
      "execution_count": null,
      "metadata": {
        "id": "3k29PgCVUwRQ"
      },
      "outputs": [],
      "source": [
        "import cv2\n",
        "from google.colab.patches import cv2_imshow\n",
        "import numpy as np"
      ]
    },
    {
      "cell_type": "code",
      "source": [
        "#The image we're going to use for showing the corner detection\n",
        "org_img = cv2.imread('/content/checkerboard.png')\n",
        "img_gray = cv2.cvtColor(org_img, cv2.COLOR_BGR2GRAY)\n",
        "cv2_imshow(img_gray)\n",
        "print(img_gray.shape)"
      ],
      "metadata": {
        "id": "BUetuyhv7N94",
        "colab": {
          "base_uri": "https://localhost:8080/",
          "height": 267
        },
        "outputId": "521a00e1-75bb-4577-e470-8f01d32bacb3"
      },
      "execution_count": null,
      "outputs": [
        {
          "output_type": "display_data",
          "data": {
            "text/plain": [
              "<PIL.Image.Image image mode=L size=231x233>"
            ],
            "image/png": "[encoded data removed]",
            "image/jpeg": "[encoded data removed]"
          },
          "metadata": {}
        },
        {
          "output_type": "stream",
          "name": "stdout",
          "text": [
            "(233, 231)\n"
          ]
        }
      ]
    },
    {
      "cell_type": "code",
      "source": [
        "\n",
        "def step_of_gaussian_pyramid(img):\n",
        "  target_shape = (img.shape[0] // 2, img.shape[1] // 2)\n",
        "  resized_img = cv2.resize(img, target_shape) #Scale down to half size\n",
        "  blurred_img = cv2.GaussianBlur(resized_img,(5,5),10) #Blur\n",
        "  return blurred_img\n",
        "\n",
        "imgs = []\n",
        "steps = 4\n",
        "\n",
        "for _ in range(steps):\n",
        "  img_gray = step_of_gaussian_pyramid(img_gray)\n",
        "  imgs.append(img_gray)\n",
        "\n",
        "for i in imgs:\n",
        "  print(f\"Shape: {i.shape}\")\n",
        "  cv2_imshow(i)\n",
        "  print(\"\\n\\n\")"
      ],
      "metadata": {
        "id": "SafXHXY4DT6x",
        "colab": {
          "base_uri": "https://localhost:8080/",
          "height": 513
        },
        "outputId": "2c6985f7-1849-4ecd-c1b1-d8dbd7a17a2d"
      },
      "execution_count": null,
      "outputs": [
        {
          "output_type": "stream",
          "name": "stdout",
          "text": [
            "Shape: (115, 116)\n"
          ]
        },
        {
          "output_type": "display_data",
          "data": {
            "text/plain": [
              "<PIL.Image.Image image mode=L size=116x115>"
            ],
            "image/png": "[encoded data removed]",
            "image/jpeg": "[encoded data removed]"
          },
          "metadata": {}
        },
        {
          "output_type": "stream",
          "name": "stdout",
          "text": [
            "\n",
            "\n",
            "\n",
            "Shape: (58, 57)\n"
          ]
        },
        {
          "output_type": "display_data",
          "data": {
            "text/plain": [
              "<PIL.Image.Image image mode=L size=57x58>"
            ],
            "image/png": "[encoded data removed]",
            "image/jpeg": "[encoded data removed]"
          },
          "metadata": {}
        },
        {
          "output_type": "stream",
          "name": "stdout",
          "text": [
            "\n",
            "\n",
            "\n",
            "Shape: (28, 29)\n"
          ]
        },
        {
          "output_type": "display_data",
          "data": {
            "text/plain": [
              "<PIL.Image.Image image mode=L size=29x28>"
            ],
            "image/png": "[encoded data removed]",
            "image/jpeg": "[encoded data removed]"
          },
          "metadata": {}
        },
        {
          "output_type": "stream",
          "name": "stdout",
          "text": [
            "\n",
            "\n",
            "\n",
            "Shape: (14, 14)\n"
          ]
        },
        {
          "output_type": "display_data",
          "data": {
            "text/plain": [
              "<PIL.Image.Image image mode=L size=14x14>"
            ],
            "image/png": "[encoded data removed]",
            "image/jpeg": "[encoded data removed]"
          },
          "metadata": {}
        },
        {
          "output_type": "stream",
          "name": "stdout",
          "text": [
            "\n",
            "\n",
            "\n"
          ]
        }
      ]
    },
    {
      "cell_type": "code",
      "source": [
        "#Hardcoded implementation of convolving 3x3 kernels\n",
        "\n",
        "sobel_x = np.array([[-1, 0, 1], [-2, 0, 2], [-1, 0, 1]])\n",
        "sobel_y = np.array([[-1, -2, -1], [0, 0, 0], [1, 2, 1]])\n",
        "\n",
        "def apply_convolutions(img_gray, kernel):\n",
        "    # Create an empty array to store the convolved image\n",
        "    convolved = np.zeros_like(img_gray)\n",
        "\n",
        "    # Loop through the image, excluding the borders\n",
        "    for y in range(1, img_gray.shape[0] - 1):\n",
        "        for x in range(1, img_gray.shape[1] - 1):\n",
        "            # Extract 3x3 patch centered at (x, y)\n",
        "            patch = img_gray[y-1:y+2, x-1:x+2]\n",
        "\n",
        "            # Compute the convolution by summing together the result of multiplication\n",
        "            # of elements in patch and kernel, represents intensity of the shift at a position\n",
        "            convolved[y, x] = np.sum(patch * kernel)\n",
        "\n",
        "    return np.array(convolved)\n"
      ],
      "metadata": {
        "id": "iH7Kl6_gIDYG"
      },
      "execution_count": null,
      "outputs": []
    },
    {
      "cell_type": "code",
      "source": [
        "\n",
        "sobel_x = np.array([[-1,  0,  1],   # This kernel detects horizontal edges\n",
        "                    [-2,  0,  2],   # by emphasizing the difference\n",
        "                    [-1,  0,  1]])  # between pixels on the left and right sides\n",
        "\n",
        "sobel_y = np.array([[-1, -2, -1],   # This kernel detects vertical edges\n",
        "                    [ 0,  0,  0],   # by emphasizing the difference\n",
        "                    [ 1,  2,  1]])  # between pixels above and below the center\n",
        "\n",
        "Ix = apply_convolutions(img_gray, sobel_x)\n",
        "Iy = apply_convolutions(img_gray, sobel_y)\n",
        "\n",
        "\n",
        "# Finds (Ix)^2,(Iy)^2, and Ixy\n",
        "Ix2 = Ix ** 2\n",
        "Iy2 = Iy ** 2\n",
        "Ixy = Ix * Iy\n",
        "\n",
        "print('horizontal gradient:')\n",
        "cv2_imshow(Ix)\n",
        "print('vertical gradient:')\n",
        "cv2_imshow(Iy)\n",
        "print('squared horizontal:')\n",
        "cv2_imshow(Ix2)\n",
        "print('squared vertical:')\n",
        "cv2_imshow(Iy2)\n",
        "print('gradient both directions:')\n",
        "cv2_imshow(Ixy)"
      ],
      "metadata": {
        "id": "p0zFx8E7I7bP",
        "colab": {
          "base_uri": "https://localhost:8080/",
          "height": 191
        },
        "outputId": "36f67fde-4159-4e83-d9e9-7e7c9ee63923"
      },
      "execution_count": null,
      "outputs": [
        {
          "output_type": "stream",
          "name": "stdout",
          "text": [
            "horizontal gradient:\n"
          ]
        },
        {
          "output_type": "display_data",
          "data": {
            "text/plain": [
              "<PIL.Image.Image image mode=L size=14x14>"
            ],
            "image/png": "[encoded data removed]",
            "image/jpeg": "[encoded data removed]"
          },
          "metadata": {}
        },
        {
          "output_type": "stream",
          "name": "stdout",
          "text": [
            "vertical gradient:\n"
          ]
        },
        {
          "output_type": "display_data",
          "data": {
            "text/plain": [
              "<PIL.Image.Image image mode=L size=14x14>"
            ],
            "image/png": "[encoded data removed]",
            "image/jpeg": "[encoded data removed]"
          },
          "metadata": {}
        },
        {
          "output_type": "stream",
          "name": "stdout",
          "text": [
            "squared horizontal:\n"
          ]
        },
        {
          "output_type": "display_data",
          "data": {
            "text/plain": [
              "<PIL.Image.Image image mode=L size=14x14>"
            ],
            "image/png": "[encoded data removed]",
            "image/jpeg": "[encoded data removed]"
          },
          "metadata": {}
        },
        {
          "output_type": "stream",
          "name": "stdout",
          "text": [
            "squared vertical:\n"
          ]
        },
        {
          "output_type": "display_data",
          "data": {
            "text/plain": [
              "<PIL.Image.Image image mode=L size=14x14>"
            ],
            "image/png": "[encoded data removed]",
            "image/jpeg": "[encoded data removed]"
          },
          "metadata": {}
        },
        {
          "output_type": "stream",
          "name": "stdout",
          "text": [
            "gradient both directions:\n"
          ]
        },
        {
          "output_type": "display_data",
          "data": {
            "text/plain": [
              "<PIL.Image.Image image mode=L size=14x14>"
            ],
            "image/png": "[encoded data removed]",
            "image/jpeg": "[encoded data removed]"
          },
          "metadata": {}
        }
      ]
    },
    {
      "cell_type": "code",
      "source": [
        "#Doing that for each level of gaussian pyramid\n",
        "Ixys = []\n",
        "Ix2 = []\n",
        "Iy2 = []\n",
        "for i in imgs:\n",
        "\n",
        "  Ix = apply_convolutions(i, sobel_x)\n",
        "  Iy = apply_convolutions(i, sobel_y)\n",
        "\n",
        "  Ix2.append(Ix ** 2)\n",
        "  Iy2.append(Iy ** 2)\n",
        "  Ixy = Ix * Iy\n",
        "  Ixys.append(Ixy)\n",
        "\n",
        "for ixy in Ixys:\n",
        "  cv2_imshow(ixy)\n",
        "  print(ixy.shape)"
      ],
      "metadata": {
        "id": "573P9c2VEl7w",
        "colab": {
          "base_uri": "https://localhost:8080/",
          "height": 305
        },
        "outputId": "53e483b8-fd20-4ba2-858d-08ba1f8615e9"
      },
      "execution_count": null,
      "outputs": [
        {
          "output_type": "display_data",
          "data": {
            "text/plain": [
              "<PIL.Image.Image image mode=L size=116x115>"
            ],
            "image/png": "[encoded data removed]",
            "image/jpeg": "[encoded data removed]"
          },
          "metadata": {}
        },
        {
          "output_type": "stream",
          "name": "stdout",
          "text": [
            "(115, 116)\n"
          ]
        },
        {
          "output_type": "display_data",
          "data": {
            "text/plain": [
              "<PIL.Image.Image image mode=L size=57x58>"
            ],
            "image/png": "[encoded data removed]",
            "image/jpeg": "[encoded data removed]"
          },
          "metadata": {}
        },
        {
          "output_type": "stream",
          "name": "stdout",
          "text": [
            "(58, 57)\n"
          ]
        },
        {
          "output_type": "display_data",
          "data": {
            "text/plain": [
              "<PIL.Image.Image image mode=L size=29x28>"
            ],
            "image/png": "[encoded data removed]",
            "image/jpeg": "[encoded data removed]"
          },
          "metadata": {}
        },
        {
          "output_type": "stream",
          "name": "stdout",
          "text": [
            "(28, 29)\n"
          ]
        },
        {
          "output_type": "display_data",
          "data": {
            "text/plain": [
              "<PIL.Image.Image image mode=L size=14x14>"
            ],
            "image/png": "[encoded data removed]",
            "image/jpeg": "[encoded data removed]"
          },
          "metadata": {}
        },
        {
          "output_type": "stream",
          "name": "stdout",
          "text": [
            "(14, 14)\n"
          ]
        }
      ]
    },
    {
      "cell_type": "code",
      "source": [
        "#Doing that to the Ix and Iy\n",
        "Rs = []\n",
        "\n",
        "K = 0.004\n",
        "\n",
        "for ixy, ix2, iy2 in zip(Ixys, Ix2, Iy2):\n",
        "  det = (ix2 * iy2) - (ixy ** 2)\n",
        "  trace = ix2 + iy2\n",
        "  R = det - (K * (trace ** 2))\n",
        "  Rs.append(R)\n",
        "\n",
        "for r in Rs:\n",
        "  r = cv2.normalize(r, None, 0, 255, cv2.NORM_MINMAX)\n",
        "  cv2_imshow(r)\n",
        "  print(r.shape)"
      ],
      "metadata": {
        "id": "-wGPH3rnE_VG",
        "colab": {
          "base_uri": "https://localhost:8080/",
          "height": 305
        },
        "outputId": "2a2e833d-cf52-40e1-d1ed-15ae2ccff76d"
      },
      "execution_count": null,
      "outputs": [
        {
          "output_type": "display_data",
          "data": {
            "text/plain": [
              "<PIL.Image.Image image mode=L size=116x115>"
            ],
            "image/png": "[encoded data removed]",
            "image/jpeg": "[encoded data removed]"
          },
          "metadata": {}
        },
        {
          "output_type": "stream",
          "name": "stdout",
          "text": [
            "(115, 116)\n"
          ]
        },
        {
          "output_type": "display_data",
          "data": {
            "text/plain": [
              "<PIL.Image.Image image mode=L size=57x58>"
            ],
            "image/png": "[encoded data removed]",
            "image/jpeg": "[encoded data removed]"
          },
          "metadata": {}
        },
        {
          "output_type": "stream",
          "name": "stdout",
          "text": [
            "(58, 57)\n"
          ]
        },
        {
          "output_type": "display_data",
          "data": {
            "text/plain": [
              "<PIL.Image.Image image mode=L size=29x28>"
            ],
            "image/png": "[encoded data removed]",
            "image/jpeg": "[encoded data removed]"
          },
          "metadata": {}
        },
        {
          "output_type": "stream",
          "name": "stdout",
          "text": [
            "(28, 29)\n"
          ]
        },
        {
          "output_type": "display_data",
          "data": {
            "text/plain": [
              "<PIL.Image.Image image mode=L size=14x14>"
            ],
            "image/png": "[encoded data removed]",
            "image/jpeg": "[encoded data removed]"
          },
          "metadata": {}
        },
        {
          "output_type": "stream",
          "name": "stdout",
          "text": [
            "(14, 14)\n"
          ]
        }
      ]
    },
    {
      "cell_type": "code",
      "source": [
        "#Getting the final corners\n",
        "corners = []\n",
        "threshhold = 100\n",
        "for R in Rs:\n",
        "  norm = cv2.normalize(R, None, 0, 255, cv2.NORM_MINMAX)\n",
        "  corners_arr = np.zeros_like(norm)\n",
        "  corners_arr[norm > threshhold] = 255\n",
        "  corners.append(corners_arr)\n",
        "  cv2_imshow(corners_arr)\n",
        "  print(corners_arr.shape)"
      ],
      "metadata": {
        "id": "2Oww5THZFiTb",
        "colab": {
          "base_uri": "https://localhost:8080/",
          "height": 305
        },
        "outputId": "98e729df-c09d-4c49-ac93-acd9cefd9bc5"
      },
      "execution_count": null,
      "outputs": [
        {
          "output_type": "display_data",
          "data": {
            "text/plain": [
              "<PIL.Image.Image image mode=L size=116x115>"
            ],
            "image/png": "[encoded data removed]",
            "image/jpeg": "[encoded data removed]"
          },
          "metadata": {}
        },
        {
          "output_type": "stream",
          "name": "stdout",
          "text": [
            "(115, 116)\n"
          ]
        },
        {
          "output_type": "display_data",
          "data": {
            "text/plain": [
              "<PIL.Image.Image image mode=L size=57x58>"
            ],
            "image/png": "[encoded data removed]",
            "image/jpeg": "[encoded data removed]"
          },
          "metadata": {}
        },
        {
          "output_type": "stream",
          "name": "stdout",
          "text": [
            "(58, 57)\n"
          ]
        },
        {
          "output_type": "display_data",
          "data": {
            "text/plain": [
              "<PIL.Image.Image image mode=L size=29x28>"
            ],
            "image/png": "[encoded data removed]",
            "image/jpeg": "[encoded data removed]"
          },
          "metadata": {}
        },
        {
          "output_type": "stream",
          "name": "stdout",
          "text": [
            "(28, 29)\n"
          ]
        },
        {
          "output_type": "display_data",
          "data": {
            "text/plain": [
              "<PIL.Image.Image image mode=L size=14x14>"
            ],
            "image/png": "[encoded data removed]",
            "image/jpeg": "[encoded data removed]"
          },
          "metadata": {}
        },
        {
          "output_type": "stream",
          "name": "stdout",
          "text": [
            "(14, 14)\n"
          ]
        }
      ]
    },
    {
      "cell_type": "code",
      "source": [
        "from sklearn.cluster import KMeans\n",
        "\n",
        "# Resize the original image to half its size\n",
        "resized_image = cv2.resize(org_img, (org_img.shape[1] // 2, org_img.shape[0] // 2))\n",
        "\n",
        "# Stored the locations of all the corners\n",
        "corner_indices = np.where(corners[0] == 0)\n",
        "\n",
        "# Finds major groups of corners using Kmeans clustering\n",
        "points = np.array(list(zip(corner_indices[1], corner_indices[0])))\n",
        "kmeans = KMeans(n_clusters=20, n_init='auto') # Determines how many corners will be plotted\n",
        "kmeans.fit(points)\n",
        "\n",
        "# Draws a red circle at every cluter\n",
        "for center in kmeans.cluster_centers_:\n",
        "  cv2.circle(resized_image, (int(center[0]), int(center[1])), 5, (0, 0, 255), 2)\n",
        "\n",
        "cv2_imshow(resized_image)\n",
        "\n"
      ],
      "metadata": {
        "colab": {
          "base_uri": "https://localhost:8080/",
          "height": 133
        },
        "id": "sloI8qGdEMxC",
        "outputId": "83749a92-d567-4d3c-ccfd-a3488b083813"
      },
      "execution_count": null,
      "outputs": [
        {
          "output_type": "display_data",
          "data": {
            "text/plain": [
              "<PIL.Image.Image image mode=RGB size=115x116>"
            ],
            "image/png": "[encoded data removed]",
            "image/jpeg": "[encoded data removed]"
          },
          "metadata": {}
        }
      ]
    },
    {
      "cell_type": "markdown",
      "source": [],
      "metadata": {
        "id": "2Y5upJUC72ZK"
      }
    }
  ]
}